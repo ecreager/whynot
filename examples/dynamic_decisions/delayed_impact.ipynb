{
 "cells": [
  {
   "cell_type": "markdown",
   "metadata": {},
   "source": [
    "# Delayed Impact \n",
    "\n",
    "This notebook explores causal inference in the context of decision making with dynamics. As our starting point, we use the lending simulator introduced in [Delayed Impact of Fair Machine Learning](https://arxiv.org/abs/1803.04383). \n",
    "\n",
    "To connect this simulator with causal inference, we exploit it's representation as a structural causal model introduced in [Causal Modeling for Fairness in Dynamical Systems](https://arxiv.org/abs/1909.09141). All of the interventions we consider, including the \"credit bureau\" intervention, were introduced by Creager et al. For more details, see\n",
    "\n",
    "1. Creager, Elliot, et al. \"Causal Modeling for Fairness in Dynamical Systems.\" International Conference on Machine Learning. 2020.\n",
    "\n",
    "2. Liu, Lydia, et al. \"Delayed Impact of Fair Machine Learning.\" International Conference on Machine Learning. 2018."
   ]
  },
  {
   "cell_type": "code",
   "execution_count": 1,
   "metadata": {},
   "outputs": [],
   "source": [
    "%load_ext autoreload\n",
    "%autoreload 2"
   ]
  },
  {
   "cell_type": "code",
   "execution_count": 2,
   "metadata": {
    "scrolled": true
   },
   "outputs": [],
   "source": [
    "import matplotlib.pylab as plt\n",
    "from tqdm.auto import tqdm\n",
    "\n",
    "import whynot as wn\n",
    "import whynot.traceable_numpy as np\n",
    "\n",
    "from whynot.simulators.delayed_impact.simulator import INV_CDFS, GROUP_SIZE_RATIO"
   ]
  },
  {
   "cell_type": "markdown",
   "metadata": {},
   "source": [
    "## Constructing the experiment"
   ]
  },
  {
   "cell_type": "markdown",
   "metadata": {},
   "source": [
    "For illustrative purposes, we show how to construct the credit bureau intervention from [Creager et al.](https://arxiv.org/abs/1909.09141) in WhyNot. The user writes a handful of small functions, each determining a different aspect of the causal experiment."
   ]
  },
  {
   "cell_type": "markdown",
   "metadata": {},
   "source": [
    "### Sample initial states\n",
    "Each state in the delayed impact model consists of an agent parameterized by a binary \"group\" indicator and a credit score.\n",
    "We sample group membership and credit scores based on historical FICO data."
   ]
  },
  {
   "cell_type": "code",
   "execution_count": 3,
   "metadata": {},
   "outputs": [],
   "source": [
    "def sample_initial_states(rng):\n",
    "    group = int(rng.uniform() < GROUP_SIZE_RATIO[1])\n",
    "    # Compute credit score via inverse CDF trick\n",
    "    score = INV_CDFS[group](rng.uniform())\n",
    "    return wn.delayed_impact.State(group=group, credit_score=score)"
   ]
  },
  {
   "cell_type": "markdown",
   "metadata": {},
   "source": [
    "### Set up simulator configuration\n",
    "The simulator is parameterized by lending thresholds for each group $\\tau_0$ and $\\tau_1$, which we instantiate as `parameters` to allow the user to vary them\n",
    "during experiments."
   ]
  },
  {
   "cell_type": "code",
   "execution_count": 4,
   "metadata": {},
   "outputs": [],
   "source": [
    "@wn.parameter(\n",
    "    name=\"threshold_g0\", default=550, description=\"Lending threshold for group 0\")\n",
    "@wn.parameter(\n",
    "    name=\"threshold_g1\", default=550, description=\"Lending threshold for group 1\")\n",
    "def construct_config(threshold_g0, threshold_g1):\n",
    "    \"\"\"Return the experimental config for runs without intervention\"\"\"\n",
    "    return wn.delayed_impact.Config(\n",
    "        start_time=0, end_time=1, threshold_g0=threshold_g0, threshold_g1=threshold_g1\n",
    "    )"
   ]
  },
  {
   "cell_type": "markdown",
   "metadata": {},
   "source": [
    "### Define outcome measurement\n",
    "The outcome measurement we measure is the change in an agent's credit score from time step 0 to time step 1, along with the profit\n",
    "the bank earns for this individual."
   ]
  },
  {
   "cell_type": "code",
   "execution_count": 5,
   "metadata": {},
   "outputs": [],
   "source": [
    "def extract_outcomes(run):\n",
    "    # Recall states are individuals in this model\n",
    "    agent_t0 = run.states[0]\n",
    "    agent_t1 = run.states[1]\n",
    "    return [agent_t1.credit_score - agent_t0.credit_score, agent_t1.profits]"
   ]
  },
  {
   "cell_type": "markdown",
   "metadata": {},
   "source": [
    "### Define the intervention\n",
    "\n",
    "The intervention we consider is the implementation of a credit bureau that treats intermediates between the individual and the lender\n",
    "and reports credit scores of $\\min(\\text{score}, 600)$, as discussed in [Creager et al.](https://arxiv.org/abs/1909.09141)."
   ]
  },
  {
   "cell_type": "code",
   "execution_count": 6,
   "metadata": {},
   "outputs": [],
   "source": [
    "def creditscore_threshold(score):\n",
    "    \"\"\"Alternate credit bureau scoring policy.\"\"\"\n",
    "    return max(score, 600)\n",
    "\n",
    "def intervention():\n",
    "    return wn.delayed_impact.Intervention(credit_scorer=creditscore_threshold, time=0)"
   ]
  },
  {
   "cell_type": "markdown",
   "metadata": {},
   "source": [
    "### Put the components together\n",
    "We put each of these components in a `DynamicsExperiment` object to create an the `CreditBureauExperiment`. Importantly, we assume all agents in the model\n",
    "have the credit bureau intervention, so they are \"treated\" in the causal inference sense with probability 1.0"
   ]
  },
  {
   "cell_type": "code",
   "execution_count": 7,
   "metadata": {},
   "outputs": [],
   "source": [
    "CreditBureauExperiment = wn.DynamicsExperiment(\n",
    "    name=\"CreditBureauExperiment\",\n",
    "    description=\"Intervention on the credit scoring mechanism.\",\n",
    "    simulator=wn.delayed_impact,\n",
    "    simulator_config=construct_config,\n",
    "    intervention=intervention,\n",
    "    state_sampler=sample_initial_states,\n",
    "    propensity_scorer=1.0,\n",
    "    outcome_extractor=extract_outcomes,\n",
    "    covariate_builder=lambda run: run.initial_state.group,\n",
    ")"
   ]
  },
  {
   "cell_type": "markdown",
   "metadata": {},
   "source": [
    "## Running the experiment\n",
    "\n",
    "Compute average credit score changes for the minority group, as well as institutional profits, as the credit score threshold for the minority varies from 300 to 800.\n",
    "Throughout, the majority threshold is fixed."
   ]
  },
  {
   "cell_type": "code",
   "execution_count": 8,
   "metadata": {},
   "outputs": [
    {
     "data": {
      "application/vnd.jupyter.widget-view+json": {
       "model_id": "b145acd6457a4bfb8afa98691e8d5fb3",
       "version_major": 2,
       "version_minor": 0
      },
      "text/plain": [
       "HBox(children=(FloatProgress(value=0.0, max=50.0), HTML(value='')))"
      ]
     },
     "metadata": {},
     "output_type": "display_data"
    },
    {
     "name": "stdout",
     "output_type": "stream",
     "text": [
      "\n"
     ]
    }
   ],
   "source": [
    "minority_thresholds = list(range(300, 800, 10))\n",
    "\n",
    "average_min_score_changes = []\n",
    "average_inst_profits = []\n",
    "for tau_0 in tqdm(minority_thresholds):\n",
    "    # Run the experiment to generate the dataset\n",
    "    dataset = CreditBureauExperiment.run(threshold_g0=tau_0, num_samples=1000, parallelize=True)    \n",
    "    \n",
    "    # Only consider score changes for the minority group\n",
    "    minority_locs = dataset.covariates[:, 0] == 0\n",
    "    minority_treated_locs = minority_locs & (dataset.treatments == 1)\n",
    "\n",
    "    score_changes = dataset.outcomes[:, 0]\n",
    "    minority_changes = score_changes[minority_treated_locs]\n",
    "    average_min_score_changes.append(np.mean(minority_changes))\n",
    "        \n",
    "    # Report profits over the entire group\n",
    "    ind_profits = dataset.outcomes[:, 1][dataset.treatments == 1]\n",
    "    average_inst_profits.append(np.mean(ind_profits))"
   ]
  },
  {
   "cell_type": "markdown",
   "metadata": {},
   "source": [
    "## Visualizing the results"
   ]
  },
  {
   "cell_type": "code",
   "execution_count": 9,
   "metadata": {},
   "outputs": [
    {
     "data": {
      "image/png": "[encoded data removed]",
      "text/plain": [
       "<Figure size 864x432 with 2 Axes>"
      ]
     },
     "metadata": {
      "needs_background": "light"
     },
     "output_type": "display_data"
    }
   ],
   "source": [
    "_, axs = plt.subplots(1, 2, figsize=(12, 6))\n",
    "axs[0].plot(minority_thresholds, average_min_score_changes, label=\"Average Minority\\n Score Change\")\n",
    "axs[0].plot([600] * 20, np.linspace(-60, 20, 20), label=\"Credit Bureau Cutoff\", linestyle=\"--\", color=\"black\")\n",
    "axs[0].legend()\n",
    "axs[0].set_xlabel(\"Minority Threshold\")\n",
    "axs[0].set_ylabel(\"Score Change\")\n",
    "axs[1].plot(minority_thresholds, average_inst_profits, label=\"Average Profit\")\n",
    "axs[1].plot([600] * 20, np.linspace(0, 0.5, 20), label=\"Credit Bureau Cutoff\", linestyle=\"--\", color=\"black\")\n",
    "axs[1].set_xlabel(\"Minority Threshold\")\n",
    "axs[1].set_ylabel(\"Institutional Profit\")\n",
    "axs[1].legend();"
   ]
  },
  {
   "cell_type": "markdown",
   "metadata": {},
   "source": [
    "# Treatment effect estimation with confounding\n",
    "\n",
    "Now, we slightly modify the CreditBureau example to show how WhyNot can also be used to address causal inference questions. Rather than exposing all agents to the credit bureau intervention, we imagine\n",
    "members of the minority group are more likely to receive the credit bureau intervention (75% chance) compared to members of the majority group (20% chance). Using this data, we wish to estimate the population-level causal effect of the credit intervention.\n"
   ]
  },
  {
   "cell_type": "markdown",
   "metadata": {},
   "source": [
    "## Constructing the experiment\n",
    "\n",
    "We slightly modify the `CreditBureauExperiment` to include confounded treatment assignment by changing the ``propensity_scorer`` function."
   ]
  },
  {
   "cell_type": "code",
   "execution_count": 10,
   "metadata": {},
   "outputs": [],
   "source": [
    "def propensity_scorer(untreated_run):\n",
    "    \"\"\"Assign minority to treatment 75% of the time, compared to 25% for the majority\"\"\"\n",
    "    return  0.75 * (untreated_run.initial_state.group == 0) + 0.2 * (untreated_run.initial_state.group == 1)"
   ]
  },
  {
   "cell_type": "code",
   "execution_count": 11,
   "metadata": {
    "scrolled": true
   },
   "outputs": [],
   "source": [
    "BiasedCreditBureauExperiment = wn.DynamicsExperiment(\n",
    "    name=\"BiasedCreditBureauExperiment\",\n",
    "    description=\"Intervention on the credit scoring mechanism, with treatment bias.\",\n",
    "    simulator=wn.delayed_impact,\n",
    "    simulator_config=construct_config,\n",
    "    intervention=intervention,\n",
    "    state_sampler=sample_initial_states,\n",
    "    propensity_scorer=propensity_scorer,\n",
    "    outcome_extractor=extract_outcomes,\n",
    "    # Only covariate is group membership, which is a confounder for this experiment.\n",
    "    covariate_builder=lambda run: [run.initial_state.group, run.initial_state.credit_score]\n",
    ")"
   ]
  },
  {
   "cell_type": "markdown",
   "metadata": {},
   "source": [
    "## Running the experiment and generating causal graphs"
   ]
  },
  {
   "cell_type": "markdown",
   "metadata": {},
   "source": [
    "Run the experiment to generate an observational dataset. Using `causal_graph=True` generates the causal graph associated with the experiment."
   ]
  },
  {
   "cell_type": "code",
   "execution_count": 12,
   "metadata": {},
   "outputs": [
    {
     "data": {
      "application/vnd.jupyter.widget-view+json": {
       "model_id": "1d45078b084c48b692f55d29076bf63c",
       "version_major": 2,
       "version_minor": 0
      },
      "text/plain": [
       "HBox(children=(FloatProgress(value=0.0, max=1000.0), HTML(value='')))"
      ]
     },
     "metadata": {},
     "output_type": "display_data"
    },
    {
     "name": "stdout",
     "output_type": "stream",
     "text": [
      "\n"
     ]
    }
   ],
   "source": [
    "dataset = BiasedCreditBureauExperiment.run(num_samples=1000, causal_graph=True, show_progress=True)"
   ]
  },
  {
   "cell_type": "markdown",
   "metadata": {},
   "source": [
    "## Estimating treatment effects"
   ]
  },
  {
   "cell_type": "code",
   "execution_count": 13,
   "metadata": {},
   "outputs": [
    {
     "name": "stdout",
     "output_type": "stream",
     "text": [
      "Estimated ATE: -26.07 (-35.41, -16.74)\n",
      "True ATE: -24.74\n"
     ]
    }
   ],
   "source": [
    "covariates, treatment, outcome = dataset.covariates, dataset.treatments, dataset.outcomes\n",
    "score_changes = dataset.outcomes[:, 0]\n",
    "\n",
    "inference_result = wn.algorithms.ols.estimate_treatment_effect(\n",
    "    covariates, treatment, score_changes)\n",
    "\n",
    "print(\"Estimated ATE: {:.2f} ({:.2f}, {:.2f})\".format(inference_result.ate, *inference_result.ci))\n",
    "print(\"True ATE: {:.2f}\".format(np.mean(dataset.true_effects[:, 0])))"
   ]
  },
  {
   "cell_type": "markdown",
   "metadata": {},
   "source": [
    "## Inspecting the causal graph\n",
    "\n",
    "The causal graph is a `networkx.Digraph` that can easily be connected to graphical methods for estimating treatment effects, e.g. [DoWhy](https://github.com/microsoft/dowhy). \n",
    "For a complete example, see [here](https://github.com/zykls/whynot/blob/master/examples/causal_inference/graphical_methods.ipynb)."
   ]
  },
  {
   "cell_type": "code",
   "execution_count": 14,
   "metadata": {},
   "outputs": [
    {
     "name": "stdout",
     "output_type": "stream",
     "text": [
      "## NODES ##\n",
      "group_0\n",
      "credit_score_0\n",
      "profits_0\n",
      "loan_approved_0\n",
      "repaid_0\n",
      "PARAM:credit_scorer_0\n",
      "PARAM:threshold_g0_0\n",
      "PARAM:threshold_g1_0\n",
      "PARAM:repayment_utility_0\n",
      "PARAM:default_utility_0\n",
      "PARAM:repayment_score_change_0\n",
      "PARAM:default_score_change_0\n",
      "PARAM:min_score_0\n",
      "PARAM:max_score_0\n",
      "group_1\n",
      "credit_score_1\n",
      "profits_1\n",
      "loan_approved_1\n",
      "repaid_1\n",
      "PARAM:credit_scorer_1\n",
      "PARAM:threshold_g0_1\n",
      "PARAM:threshold_g1_1\n",
      "PARAM:repayment_utility_1\n",
      "PARAM:default_utility_1\n",
      "PARAM:repayment_score_change_1\n",
      "PARAM:default_score_change_1\n",
      "PARAM:min_score_1\n",
      "PARAM:max_score_1\n",
      "Treatment\n",
      "Outcome\n",
      "\n",
      "## EDGES ##\n",
      "\n",
      "('group_0', 'group_1')\n",
      "('group_0', 'credit_score_1')\n",
      "('group_0', 'profits_1')\n",
      "('group_0', 'loan_approved_1')\n",
      "('group_0', 'repaid_1')\n",
      "('group_0', 'Treatment')\n",
      "('credit_score_0', 'credit_score_1')\n",
      "('credit_score_0', 'profits_1')\n",
      "('credit_score_0', 'loan_approved_1')\n",
      "('credit_score_0', 'Outcome')\n",
      "('profits_0', 'profits_1')\n",
      "('PARAM:credit_scorer_0', 'credit_score_1')\n",
      "('PARAM:credit_scorer_0', 'profits_1')\n",
      "('PARAM:credit_scorer_0', 'loan_approved_1')\n",
      "('PARAM:threshold_g0_0', 'credit_score_1')\n",
      "('PARAM:threshold_g0_0', 'profits_1')\n",
      "('PARAM:threshold_g0_0', 'loan_approved_1')\n",
      "('PARAM:threshold_g1_0', 'credit_score_1')\n",
      "('PARAM:threshold_g1_0', 'profits_1')\n",
      "('PARAM:threshold_g1_0', 'loan_approved_1')\n",
      "('PARAM:repayment_utility_0', 'profits_1')\n",
      "('PARAM:default_utility_0', 'profits_1')\n",
      "('PARAM:repayment_score_change_0', 'credit_score_1')\n",
      "('PARAM:default_score_change_0', 'credit_score_1')\n",
      "('PARAM:min_score_0', 'credit_score_1')\n",
      "('PARAM:max_score_0', 'credit_score_1')\n",
      "('credit_score_1', 'Outcome')\n",
      "('Treatment', 'PARAM:credit_scorer_0')\n",
      "('Treatment', 'PARAM:credit_scorer_1')\n"
     ]
    }
   ],
   "source": [
    "graph = dataset.causal_graph\n",
    "print(\"## NODES ##\")\n",
    "for node in graph.nodes:\n",
    "    print(node)\n",
    "print(\"\\n## EDGES ##\\n\")\n",
    "for edge in graph.edges:\n",
    "    print(edge)"
   ]
  }
 ],
 "metadata": {
  "kernelspec": {
   "display_name": "Python 3",
   "language": "python",
   "name": "python3"
  },
  "language_info": {
   "codemirror_mode": {
    "name": "ipython",
    "version": 3
   },
   "file_extension": ".py",
   "mimetype": "text/x-python",
   "name": "python",
   "nbconvert_exporter": "python",
   "pygments_lexer": "ipython3",
   "version": "3.7.7"
  }
 },
 "nbformat": 4,
 "nbformat_minor": 2
}
